{
 "cells": [
  {
   "cell_type": "markdown",
   "metadata": {},
   "source": [
    "### Simulação Post-Predict"
   ]
  },
  {
   "cell_type": "code",
   "execution_count": 62,
   "metadata": {},
   "outputs": [],
   "source": [
    "import findspark\n",
    "findspark.init('/home/labdata/spark-2.2.1-bin-hadoop2.6')"
   ]
  },
  {
   "cell_type": "code",
   "execution_count": 63,
   "metadata": {},
   "outputs": [],
   "source": [
    "from pyspark.context import SparkContext\n",
    "from pyspark.sql.session import SparkSession\n",
    "spark = SparkSession\\\n",
    "            .builder\\\n",
    "            .appName('bank')\\\n",
    "            .getOrCreate()"
   ]
  },
  {
   "cell_type": "code",
   "execution_count": 64,
   "metadata": {},
   "outputs": [],
   "source": [
    "from pyspark.sql import functions as F"
   ]
  },
  {
   "cell_type": "code",
   "execution_count": 65,
   "metadata": {},
   "outputs": [],
   "source": [
    "prediction_file = \"predictions/2018-08-10/predictions/part-00000-4bef2762-a8d6-4044-8175-e01bf8b372ed-c000.csv\""
   ]
  },
  {
   "cell_type": "code",
   "execution_count": 66,
   "metadata": {},
   "outputs": [],
   "source": [
    "model_output = spark.read.csv(\n",
    "    \"hdfs://elephant:8020/user/labdata/\" + prediction_file,\n",
    "    header=False,\n",
    "    sep=\",\",\n",
    "    inferSchema=True\n",
    ")\n",
    "\n",
    "colnames = ['client_id', 'prediction', 'label', 'score']\n",
    "model_output = model_output.selectExpr(*[\"{} as {}\".format(model_output.columns[i], colnames[i]) for i in range(len(model_output.columns))])"
   ]
  },
  {
   "cell_type": "markdown",
   "metadata": {},
   "source": [
    ". Qual a taxa de conversão para os grupos que o modelo previu compra vs não-compra?"
   ]
  },
  {
   "cell_type": "code",
   "execution_count": 67,
   "metadata": {},
   "outputs": [
    {
     "name": "stdout",
     "output_type": "stream",
     "text": [
      "+----------+-----+---------------+\n",
      "|prediction|count|convertion_rate|\n",
      "+----------+-----+---------------+\n",
      "|        no| 6896|         0.0566|\n",
      "|       yes| 1342|         0.4001|\n",
      "+----------+-----+---------------+\n",
      "\n"
     ]
    }
   ],
   "source": [
    "results = model_output.groupBy('prediction').agg({\"*\": \"count\", \"label\": \"avg\"})\n",
    "results = results.select(\n",
    "    F.when(results['prediction']==1, 'yes').otherwise('no').alias('prediction'), \n",
    "    (results['count(1)']).alias('count'), F\n",
    "    .format_number('avg(label)', 4).alias('convertion_rate')\n",
    ")\n",
    "results.show()"
   ]
  },
  {
   "cell_type": "markdown",
   "metadata": {},
   "source": [
    ". Digamos que só temos mão para realizar 500 ligações (número arbitrário para fins de ilustração), quão melhor é a conversão se utilizando o modelo vs. escolher aleatóriamente? "
   ]
  },
  {
   "cell_type": "code",
   "execution_count": 7,
   "metadata": {},
   "outputs": [],
   "source": [
    "# aleatoriamente\n",
    "random_sample = model_output.sample(\n",
    "    withReplacement=False,\n",
    "    fraction=0.0623,\n",
    "    seed=420\n",
    ")\n",
    "cr_rand = 100*random_sample.groupBy().avg('label').collect()[0][0]"
   ]
  },
  {
   "cell_type": "code",
   "execution_count": 8,
   "metadata": {},
   "outputs": [],
   "source": [
    "# top500\n",
    "top500_sample = model_output.orderBy(F.desc('score')).limit(500)\n",
    "cr_top = 100*top500_sample.groupBy().avg('label').collect()[0][0]"
   ]
  },
  {
   "cell_type": "code",
   "execution_count": 9,
   "metadata": {},
   "outputs": [
    {
     "name": "stdout",
     "output_type": "stream",
     "text": [
      "Taxa de Conversão Esperada:\n",
      "\tSem Modelo: 11.18%\n",
      "\tCom Modelo: 55.00%\n"
     ]
    }
   ],
   "source": [
    "print(f\"Taxa de Conversão Esperada:\\n\\tSem Modelo: {cr_rand:.2f}%\\n\\tCom Modelo: {cr_top:.2f}%\")"
   ]
  },
  {
   "cell_type": "markdown",
   "metadata": {},
   "source": [
    ". Em outro cenário, ligaríamos para todos os números disponíveis. Como muda o CAC ao ligar apenas para os recomendados pelo modelo?"
   ]
  },
  {
   "cell_type": "code",
   "execution_count": 51,
   "metadata": {},
   "outputs": [],
   "source": [
    "# custo de cada ligação: R$ 17\n",
    "call_cost = 17"
   ]
  },
  {
   "cell_type": "code",
   "execution_count": 52,
   "metadata": {},
   "outputs": [],
   "source": [
    "convertion_full = model_output.groupBy('label').count()\n",
    "convertion_full = {int(r['label']): r['count'] for r in convertion_full.collect()}"
   ]
  },
  {
   "cell_type": "code",
   "execution_count": 53,
   "metadata": {},
   "outputs": [],
   "source": [
    "convertion_model = model_output.filter(model_output['prediction'] == 1).groupBy('label').count()\n",
    "convertion_model = {int(r['label']): r['count'] for r in convertion_model.collect()}"
   ]
  },
  {
   "cell_type": "code",
   "execution_count": 55,
   "metadata": {},
   "outputs": [],
   "source": [
    "cac_full = (convertion_full[0] + convertion_full[1])*call_cost / convertion_full[1]\n",
    "cac_model = (convertion_model[0] + convertion_model[1])*call_cost / convertion_model[1]"
   ]
  },
  {
   "cell_type": "code",
   "execution_count": 61,
   "metadata": {},
   "outputs": [
    {
     "name": "stdout",
     "output_type": "stream",
     "text": [
      "CAC esperado:\n",
      "\tSem Modelo: R$ 151.07\n",
      "\tCom Modelo: R$  42.48\n"
     ]
    }
   ],
   "source": [
    "print(f\"CAC esperado:\\n\\tSem Modelo: R${cac_full:7.2f}\\n\\tCom Modelo: R${cac_model:7.2f}\")"
   ]
  }
 ],
 "metadata": {
  "kernelspec": {
   "display_name": "Python 3",
   "language": "python",
   "name": "python3"
  },
  "language_info": {
   "codemirror_mode": {
    "name": "ipython",
    "version": 3
   },
   "file_extension": ".py",
   "mimetype": "text/x-python",
   "name": "python",
   "nbconvert_exporter": "python",
   "pygments_lexer": "ipython3",
   "version": "3.6.5"
  }
 },
 "nbformat": 4,
 "nbformat_minor": 2
}
