{
 "cells": [
  {
   "cell_type": "markdown",
   "metadata": {},
   "source": [
    "### Simulação Post-Predict"
   ]
  },
  {
   "cell_type": "code",
   "execution_count": 1,
   "metadata": {},
   "outputs": [],
   "source": [
    "import findspark\n",
    "findspark.init('/home/labdata/spark-2.2.1-bin-hadoop2.6')"
   ]
  },
  {
   "cell_type": "code",
   "execution_count": 2,
   "metadata": {},
   "outputs": [],
   "source": [
    "from pyspark.context import SparkContext\n",
    "from pyspark.sql.session import SparkSession\n",
    "spark = SparkSession\\\n",
    "            .builder\\\n",
    "            .appName('bank')\\\n",
    "            .getOrCreate()"
   ]
  },
  {
   "cell_type": "code",
   "execution_count": 3,
   "metadata": {},
   "outputs": [],
   "source": [
    "from pyspark.sql import functions as F"
   ]
  },
  {
   "cell_type": "code",
   "execution_count": 4,
   "metadata": {},
   "outputs": [],
   "source": [
    "model_output = spark.read.csv(\n",
    "    \"hdfs://elephant:8020/user/labdata/predictions/2018-08-09/predictions/part-00000-ab65832c-2463-4ecc-bf77-a46ade62715f-c000.csv\",\n",
    "    header=False,\n",
    "    sep=\",\",\n",
    "    inferSchema=True\n",
    ")\n",
    "\n",
    "colnames = ['client_id', 'prediction', 'label', 'score']\n",
    "model_output = model_output.selectExpr(*[\"{} as {}\".format(model_output.columns[i], colnames[i]) for i in range(len(model_output.columns))])"
   ]
  },
  {
   "cell_type": "markdown",
   "metadata": {},
   "source": [
    ". Qual a taxa de conversão para os grupos que o modelo previu compra vs não-compra?"
   ]
  },
  {
   "cell_type": "code",
   "execution_count": 5,
   "metadata": {},
   "outputs": [
    {
     "name": "stdout",
     "output_type": "stream",
     "text": [
      "+----------+-----+---------------+\n",
      "|prediction|count|convertion_rate|\n",
      "+----------+-----+---------------+\n",
      "|        no| 6876|         0.0558|\n",
      "|       yes| 1361|         0.3990|\n",
      "+----------+-----+---------------+\n",
      "\n"
     ]
    }
   ],
   "source": [
    "results = model_output.groupBy('prediction').agg({\"*\": \"count\", \"label\": \"avg\"})\n",
    "results = results.select(\n",
    "    F.when(results['prediction']==1, 'yes').otherwise('no').alias('prediction'), \n",
    "    (results['count(1)']).alias('count'), F\n",
    "    .format_number('avg(label)', 4).alias('convertion_rate')\n",
    ")\n",
    "results.show()"
   ]
  },
  {
   "cell_type": "markdown",
   "metadata": {},
   "source": [
    ". Digamos que só temos mão para realizar 500 ligações (número arbitrário para fins de ilustração), quão melhor é a conversão se utilizando o modelo vs. escolher aleatóriamente? "
   ]
  },
  {
   "cell_type": "code",
   "execution_count": 6,
   "metadata": {},
   "outputs": [],
   "source": [
    "# aleatoriamente\n",
    "random_sample = model_output.sample(\n",
    "    withReplacement=False,\n",
    "    fraction=0.0623,\n",
    "    seed=420\n",
    ")\n",
    "cr_rand = 100*random_sample.groupBy().avg('label').collect()[0][0]"
   ]
  },
  {
   "cell_type": "code",
   "execution_count": 7,
   "metadata": {},
   "outputs": [],
   "source": [
    "# top500\n",
    "top500_sample = model_output.orderBy(F.desc('score')).limit(500)\n",
    "cr_top = 100*top500_sample.groupBy().avg('label').collect()[0][0]"
   ]
  },
  {
   "cell_type": "code",
   "execution_count": 8,
   "metadata": {},
   "outputs": [
    {
     "name": "stdout",
     "output_type": "stream",
     "text": [
      "Taxa de Conversão Esperada:\n",
      "\tSem Modelo: 10.78%\n",
      "\tCom Modelo: 56.60%\n"
     ]
    }
   ],
   "source": [
    "print(f\"Taxa de Conversão Esperada:\\n\\tSem Modelo: {cr_rand:.2f}%\\n\\tCom Modelo: {cr_top:.2f}%\")"
   ]
  },
  {
   "cell_type": "markdown",
   "metadata": {},
   "source": [
    "Um aumento significativo em efetividade!"
   ]
  }
 ],
 "metadata": {
  "kernelspec": {
   "display_name": "Python 3",
   "language": "python",
   "name": "python3"
  },
  "language_info": {
   "codemirror_mode": {
    "name": "ipython",
    "version": 3
   },
   "file_extension": ".py",
   "mimetype": "text/x-python",
   "name": "python",
   "nbconvert_exporter": "python",
   "pygments_lexer": "ipython3",
   "version": "3.6.3"
  }
 },
 "nbformat": 4,
 "nbformat_minor": 2
}
